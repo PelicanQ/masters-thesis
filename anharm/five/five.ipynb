{
 "cells": [
  {
   "cell_type": "code",
   "execution_count": null,
   "id": "d59a1548",
   "metadata": {},
   "outputs": [
    {
     "data": {
      "text/plain": [
       "{\\Delta_{0,1},\n",
       " \\Delta_{0,2},\n",
       " \\Delta_{0,3},\n",
       " \\Delta_{0,4},\n",
       " \\Delta_{1,2},\n",
       " \\Delta_{2,3},\n",
       " \\Delta_{2,4},\n",
       " \\alpha_{0},\n",
       " \\alpha_{1},\n",
       " \\alpha_{2},\n",
       " g_{0,1},\n",
       " g_{0,2},\n",
       " g_{1,2},\n",
       " g_{2,3},\n",
       " g_{2,4}}"
      ]
     },
     "execution_count": 20,
     "metadata": {},
     "output_type": "execute_result"
    }
   ],
   "source": [
    "from anharm.Hamiltonian import Hamil\n",
    "import sympy as sp\n",
    "H = Hamil(5, 3, \"triang\")\n",
    "H.zzexpr(\"10100\").free_symbols"
   ]
  }
 ],
 "metadata": {
  "kernelspec": {
   "display_name": ".venv",
   "language": "python",
   "name": "python3"
  },
  "language_info": {
   "codemirror_mode": {
    "name": "ipython",
    "version": 3
   },
   "file_extension": ".py",
   "mimetype": "text/x-python",
   "name": "python",
   "nbconvert_exporter": "python",
   "pygments_lexer": "ipython3",
   "version": "3.12.9"
  }
 },
 "nbformat": 4,
 "nbformat_minor": 5
}
