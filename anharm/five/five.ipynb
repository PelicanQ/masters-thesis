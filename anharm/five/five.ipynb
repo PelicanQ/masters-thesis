{
 "cells": [
  {
   "cell_type": "code",
   "execution_count": 2,
   "id": "d59a1548",
   "metadata": {},
   "outputs": [
    {
     "data": {
      "text/latex": [
       "$\\displaystyle 2 g_{0,1}^{2} g_{0,2}^{2} \\left(- \\frac{1}{4 \\Delta_{0,2} \\left(- \\Delta_{0,1} - \\alpha_{0}\\right) \\left(- \\Delta_{0,2} - \\alpha_{0}\\right)} - \\frac{3}{4 \\Delta_{0,1} \\left(- \\Delta_{0,1} - \\alpha_{0}\\right) \\left(- \\Delta_{0,2} - \\alpha_{0}\\right)} - \\frac{3}{4 \\Delta_{0,1} \\Delta_{0,2} \\left(- \\Delta_{0,2} - \\alpha_{0}\\right)} - \\frac{1}{4 \\Delta_{0,1} \\Delta_{0,2} \\left(- \\Delta_{0,1} - \\alpha_{0}\\right)}\\right) - 2 g_{0,1}^{2} g_{0,2}^{2} \\left(\\frac{1}{4 \\Delta_{0,2} \\left(\\Delta_{0,1} + \\alpha_{0}\\right) \\left(- \\Delta_{0,2} - \\alpha_{0}\\right)} + \\frac{3}{4 \\Delta_{0,1} \\left(\\Delta_{0,1} + \\alpha_{0}\\right) \\left(- \\Delta_{0,2} - \\alpha_{0}\\right)} - \\frac{3}{4 \\Delta_{0,1} \\Delta_{0,2} \\left(- \\Delta_{0,2} - \\alpha_{0}\\right)} + \\frac{1}{4 \\Delta_{0,1} \\Delta_{0,2} \\left(\\Delta_{0,1} + \\alpha_{0}\\right)}\\right) + g_{0,1}^{2} g_{2,4}^{2} \\left(\\frac{1}{2 \\Delta_{0,1} \\Delta_{2,4}^{2}} + \\frac{1}{2 \\Delta_{0,1}^{2} \\Delta_{2,4}}\\right) + 2 g_{0,2}^{2} g_{2,4}^{2} \\left(- \\frac{3}{4 \\Delta_{2,4} \\left(\\Delta_{0,2} - \\alpha_{2}\\right) \\left(- \\Delta_{2,4} - \\alpha_{2}\\right)} + \\frac{1}{4 \\Delta_{0,2} \\left(\\Delta_{0,2} - \\alpha_{2}\\right) \\left(- \\Delta_{2,4} - \\alpha_{2}\\right)} + \\frac{1}{4 \\Delta_{0,2} \\Delta_{2,4} \\left(- \\Delta_{2,4} - \\alpha_{2}\\right)} + \\frac{3}{4 \\Delta_{0,2} \\Delta_{2,4} \\left(\\Delta_{0,2} - \\alpha_{2}\\right)}\\right) - \\frac{g_{0,2}^{2} g_{2,4}^{2}}{\\left(\\Delta_{0,2} - \\alpha_{2}\\right) \\left(\\Delta_{2,4} + \\alpha_{2}\\right)^{2}} + \\frac{3 g_{0,2}^{2} g_{2,4}^{2}}{\\left(\\Delta_{0,2} - \\alpha_{2}\\right)^{2} \\left(\\Delta_{2,4} + \\alpha_{2}\\right)} + \\frac{\\left(\\frac{g_{0,1} g_{2,4} \\left(- \\frac{1}{\\Delta_{2,4}} + \\frac{1}{\\Delta_{0,1}}\\right)}{2} + \\frac{g_{0,1} g_{2,4} \\left(\\frac{1}{\\Delta_{2,4}} - \\frac{1}{\\Delta_{0,1}}\\right)}{2}\\right)^{2}}{\\Delta_{0,1} + \\Delta_{2,4}} - \\frac{2 g_{0,2}^{2} g_{2,4}^{2}}{\\Delta_{2,4} \\left(\\Delta_{0,2} - \\alpha_{2}\\right)^{2}} - \\frac{2 g_{0,2}^{2} g_{2,4}^{2}}{\\Delta_{2,4} \\left(- \\Delta_{0,2} - \\alpha_{0}\\right)^{2}} - \\frac{2 g_{0,2}^{2} g_{2,4}^{2}}{\\Delta_{2,4}^{2} \\left(\\Delta_{0,2} - \\alpha_{2}\\right)} - \\frac{2 g_{0,2}^{2} g_{2,4}^{2}}{\\Delta_{2,4}^{2} \\left(- \\Delta_{0,2} - \\alpha_{0}\\right)} - \\frac{g_{0,2}^{2} g_{2,4}^{2} \\left(- \\frac{1}{\\Delta_{2,4}} + \\frac{1}{\\Delta_{0,2}}\\right)^{2}}{4 \\Delta_{0,4}} + \\frac{\\left(\\frac{g_{0,2} g_{2,4} \\left(\\frac{1}{\\Delta_{2,4}} - \\frac{1}{\\Delta_{0,2}}\\right)}{2} + g_{0,2} g_{2,4} \\left(- \\frac{1}{\\Delta_{2,4} + \\alpha_{2}} + \\frac{1}{\\Delta_{0,2} - \\alpha_{2}}\\right)\\right)^{2}}{\\Delta_{0,4}} - \\frac{g_{0,1}^{2} g_{2,4}^{2}}{2 \\Delta_{0,1} \\Delta_{2,4}^{2}} - \\frac{g_{0,1}^{2} g_{2,4}^{2}}{2 \\Delta_{0,1}^{2} \\Delta_{2,4}}$"
      ],
      "text/plain": [
       "2*g_{0,1}**2*g_{0,2}**2*(-1/(4*\\Delta_{0,2}*(-\\Delta_{0,1} - \\alpha_{0})*(-\\Delta_{0,2} - \\alpha_{0})) - 3/(4*\\Delta_{0,1}*(-\\Delta_{0,1} - \\alpha_{0})*(-\\Delta_{0,2} - \\alpha_{0})) - 3/(4*\\Delta_{0,1}*\\Delta_{0,2}*(-\\Delta_{0,2} - \\alpha_{0})) - 1/(4*\\Delta_{0,1}*\\Delta_{0,2}*(-\\Delta_{0,1} - \\alpha_{0}))) - 2*g_{0,1}**2*g_{0,2}**2*(1/(4*\\Delta_{0,2}*(\\Delta_{0,1} + \\alpha_{0})*(-\\Delta_{0,2} - \\alpha_{0})) + 3/(4*\\Delta_{0,1}*(\\Delta_{0,1} + \\alpha_{0})*(-\\Delta_{0,2} - \\alpha_{0})) - 3/(4*\\Delta_{0,1}*\\Delta_{0,2}*(-\\Delta_{0,2} - \\alpha_{0})) + 1/(4*\\Delta_{0,1}*\\Delta_{0,2}*(\\Delta_{0,1} + \\alpha_{0}))) + g_{0,1}**2*g_{2,4}**2*(1/(2*\\Delta_{0,1}*\\Delta_{2,4}**2) + 1/(2*\\Delta_{0,1}**2*\\Delta_{2,4})) + 2*g_{0,2}**2*g_{2,4}**2*(-3/(4*\\Delta_{2,4}*(\\Delta_{0,2} - \\alpha_{2})*(-\\Delta_{2,4} - \\alpha_{2})) + 1/(4*\\Delta_{0,2}*(\\Delta_{0,2} - \\alpha_{2})*(-\\Delta_{2,4} - \\alpha_{2})) + 1/(4*\\Delta_{0,2}*\\Delta_{2,4}*(-\\Delta_{2,4} - \\alpha_{2})) + 3/(4*\\Delta_{0,2}*\\Delta_{2,4}*(\\Delta_{0,2} - \\alpha_{2}))) - g_{0,2}**2*g_{2,4}**2/((\\Delta_{0,2} - \\alpha_{2})*(\\Delta_{2,4} + \\alpha_{2})**2) + 3*g_{0,2}**2*g_{2,4}**2/((\\Delta_{0,2} - \\alpha_{2})**2*(\\Delta_{2,4} + \\alpha_{2})) + (g_{0,1}*g_{2,4}*(-1/\\Delta_{2,4} + 1/\\Delta_{0,1})/2 + g_{0,1}*g_{2,4}*(1/\\Delta_{2,4} - 1/\\Delta_{0,1})/2)**2/(\\Delta_{0,1} + \\Delta_{2,4}) - 2*g_{0,2}**2*g_{2,4}**2/(\\Delta_{2,4}*(\\Delta_{0,2} - \\alpha_{2})**2) - 2*g_{0,2}**2*g_{2,4}**2/(\\Delta_{2,4}*(-\\Delta_{0,2} - \\alpha_{0})**2) - 2*g_{0,2}**2*g_{2,4}**2/(\\Delta_{2,4}**2*(\\Delta_{0,2} - \\alpha_{2})) - 2*g_{0,2}**2*g_{2,4}**2/(\\Delta_{2,4}**2*(-\\Delta_{0,2} - \\alpha_{0})) - g_{0,2}**2*g_{2,4}**2*(-1/\\Delta_{2,4} + 1/\\Delta_{0,2})**2/(4*\\Delta_{0,4}) + (g_{0,2}*g_{2,4}*(1/\\Delta_{2,4} - 1/\\Delta_{0,2})/2 + g_{0,2}*g_{2,4}*(-1/(\\Delta_{2,4} + \\alpha_{2}) + 1/(\\Delta_{0,2} - \\alpha_{2})))**2/\\Delta_{0,4} - g_{0,1}**2*g_{2,4}**2/(2*\\Delta_{0,1}*\\Delta_{2,4}**2) - g_{0,1}**2*g_{2,4}**2/(2*\\Delta_{0,1}**2*\\Delta_{2,4})"
      ]
     },
     "execution_count": 2,
     "metadata": {},
     "output_type": "execute_result"
    }
   ],
   "source": [
    "from anharm.Hamiltonian import Hamil\n",
    "import sympy as sp\n",
    "H = Hamil(5, 3, \"triang\")\n",
    "H4 = Hamil(4,3,\"4\")\n",
    "H.zzexpr(\"10100\")-H4.zzexpr(\"1010\")"
   ]
  }
 ],
 "metadata": {
  "kernelspec": {
   "display_name": ".venv",
   "language": "python",
   "name": "python3"
  },
  "language_info": {
   "codemirror_mode": {
    "name": "ipython",
    "version": 3
   },
   "file_extension": ".py",
   "mimetype": "text/x-python",
   "name": "python",
   "nbconvert_exporter": "python",
   "pygments_lexer": "ipython3",
   "version": "3.12.9"
  }
 },
 "nbformat": 4,
 "nbformat_minor": 5
}
