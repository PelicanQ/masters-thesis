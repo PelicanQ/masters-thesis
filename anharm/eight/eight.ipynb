{
 "cells": [
  {
   "cell_type": "code",
   "execution_count": 5,
   "id": "d59a1548",
   "metadata": {},
   "outputs": [
    {
     "name": "stdout",
     "output_type": "stream",
     "text": [
      "1\n",
      "2\n",
      "3\n",
      "4\n"
     ]
    },
    {
     "ename": "KeyboardInterrupt",
     "evalue": "",
     "output_type": "error",
     "traceback": [
      "\u001b[31m---------------------------------------------------------------------------\u001b[39m",
      "\u001b[31mKeyboardInterrupt\u001b[39m                         Traceback (most recent call last)",
      "\u001b[36mCell\u001b[39m\u001b[36m \u001b[39m\u001b[32mIn[5]\u001b[39m\u001b[32m, line 3\u001b[39m\n\u001b[32m      1\u001b[39m \u001b[38;5;28;01mfrom\u001b[39;00m\u001b[38;5;250m \u001b[39m\u001b[34;01manharm\u001b[39;00m\u001b[34;01m.\u001b[39;00m\u001b[34;01mHamiltonian\u001b[39;00m\u001b[38;5;250m \u001b[39m\u001b[38;5;28;01mimport\u001b[39;00m Hamil\n\u001b[32m      2\u001b[39m \u001b[38;5;28;01mimport\u001b[39;00m\u001b[38;5;250m \u001b[39m\u001b[34;01msympy\u001b[39;00m\u001b[38;5;250m \u001b[39m\u001b[38;5;28;01mas\u001b[39;00m\u001b[38;5;250m \u001b[39m\u001b[34;01msp\u001b[39;00m\n\u001b[32m----> \u001b[39m\u001b[32m3\u001b[39m H5 = \u001b[43mHamil\u001b[49m\u001b[43m(\u001b[49m\u001b[32;43m8\u001b[39;49m\u001b[43m,\u001b[49m\u001b[43m \u001b[49m\u001b[32;43m3\u001b[39;49m\u001b[43m,\u001b[49m\u001b[43m \u001b[49m\u001b[33;43m\"\u001b[39;49m\u001b[33;43mgrid\u001b[39;49m\u001b[33;43m\"\u001b[39;49m\u001b[43m)\u001b[49m\n",
      "\u001b[36mFile \u001b[39m\u001b[32m~\\Desktop\\Prog\\exjobb\\anharm\\Hamiltonian.py:18\u001b[39m, in \u001b[36mHamil.__init__\u001b[39m\u001b[34m(self, numbits, statesperbit, layout)\u001b[39m\n\u001b[32m     16\u001b[39m \u001b[38;5;28mself\u001b[39m.numbits = numbits\n\u001b[32m     17\u001b[39m \u001b[38;5;28mself\u001b[39m.statesperbit = statesperbit\n\u001b[32m---> \u001b[39m\u001b[32m18\u001b[39m mat, hamil_symbols = \u001b[43mHgen\u001b[49m\u001b[43m(\u001b[49m\u001b[43mnumbits\u001b[49m\u001b[43m,\u001b[49m\u001b[43m \u001b[49m\u001b[43mstatesperbit\u001b[49m\u001b[43m,\u001b[49m\u001b[43m \u001b[49m\u001b[43mlayout\u001b[49m\u001b[43m)\u001b[49m\n\u001b[32m     20\u001b[39m \u001b[38;5;28mself\u001b[39m.mat = mat  \u001b[38;5;66;03m# symbolic matrix, no special truncation yet other than total excitation < statesperbit\u001b[39;00m\n\u001b[32m     21\u001b[39m \u001b[38;5;28mself\u001b[39m._spaces: \u001b[38;5;28mlist\u001b[39m[Subspace] = [\u001b[38;5;28;01mNone\u001b[39;00m] * statesperbit  \u001b[38;5;66;03m# these will be RWA excitation subspaces\u001b[39;00m\n",
      "\u001b[36mFile \u001b[39m\u001b[32m~\\Desktop\\Prog\\exjobb\\anharm\\Hgen.py:135\u001b[39m, in \u001b[36mHgen\u001b[39m\u001b[34m(numbits, statesperbit, layout)\u001b[39m\n\u001b[32m    133\u001b[39m     Hint, moresymbols = getHintLine(a, c, numbits, statesperbit)\n\u001b[32m    134\u001b[39m \u001b[38;5;28;01melif\u001b[39;00m layout == \u001b[33m\"\u001b[39m\u001b[33mgrid\u001b[39m\u001b[33m\"\u001b[39m:\n\u001b[32m--> \u001b[39m\u001b[32m135\u001b[39m     Hint, moresymbols = \u001b[43mgetHintGrid\u001b[49m\u001b[43m(\u001b[49m\u001b[43ma\u001b[49m\u001b[43m,\u001b[49m\u001b[43m \u001b[49m\u001b[43mc\u001b[49m\u001b[43m,\u001b[49m\u001b[43m \u001b[49m\u001b[43mnumbits\u001b[49m\u001b[43m,\u001b[49m\u001b[43m \u001b[49m\u001b[43mstatesperbit\u001b[49m\u001b[43m)\u001b[49m\n\u001b[32m    136\u001b[39m \u001b[38;5;28;01melif\u001b[39;00m layout == \u001b[33m\"\u001b[39m\u001b[33mtriang\u001b[39m\u001b[33m\"\u001b[39m:\n\u001b[32m    137\u001b[39m     Hint, moresymbols = getHintTriang(a, c, numbits, statesperbit)\n",
      "\u001b[36mFile \u001b[39m\u001b[32m<string>:36\u001b[39m, in \u001b[36mgetHintGrid\u001b[39m\u001b[34m(a, c, numbits, statesperbit)\u001b[39m\n",
      "\u001b[36mFile \u001b[39m\u001b[32mc:\\Users\\oskar\\Desktop\\Prog\\exjobb\\.venv\\Lib\\site-packages\\sympy\\matrices\\expressions\\kronecker.py:83\u001b[39m, in \u001b[36mkronecker_product\u001b[39m\u001b[34m(*matrices)\u001b[39m\n\u001b[32m     81\u001b[39m     \u001b[38;5;28;01mreturn\u001b[39;00m matrices[\u001b[32m0\u001b[39m]\n\u001b[32m     82\u001b[39m \u001b[38;5;28;01melse\u001b[39;00m:\n\u001b[32m---> \u001b[39m\u001b[32m83\u001b[39m     \u001b[38;5;28;01mreturn\u001b[39;00m \u001b[43mKroneckerProduct\u001b[49m\u001b[43m(\u001b[49m\u001b[43m*\u001b[49m\u001b[43mmatrices\u001b[49m\u001b[43m)\u001b[49m\u001b[43m.\u001b[49m\u001b[43mdoit\u001b[49m\u001b[43m(\u001b[49m\u001b[43m)\u001b[49m\n",
      "\u001b[36mFile \u001b[39m\u001b[32mc:\\Users\\oskar\\Desktop\\Prog\\exjobb\\.venv\\Lib\\site-packages\\sympy\\matrices\\expressions\\kronecker.py:232\u001b[39m, in \u001b[36mKroneckerProduct.doit\u001b[39m\u001b[34m(self, **hints)\u001b[39m\n\u001b[32m    230\u001b[39m \u001b[38;5;28;01melse\u001b[39;00m:\n\u001b[32m    231\u001b[39m     args = \u001b[38;5;28mself\u001b[39m.args\n\u001b[32m--> \u001b[39m\u001b[32m232\u001b[39m \u001b[38;5;28;01mreturn\u001b[39;00m \u001b[43mcanonicalize\u001b[49m\u001b[43m(\u001b[49m\u001b[43mKroneckerProduct\u001b[49m\u001b[43m(\u001b[49m\u001b[43m*\u001b[49m\u001b[43margs\u001b[49m\u001b[43m)\u001b[49m\u001b[43m)\u001b[49m\n",
      "\u001b[36mFile \u001b[39m\u001b[32mc:\\Users\\oskar\\Desktop\\Prog\\exjobb\\.venv\\Lib\\site-packages\\sympy\\strategies\\core.py:19\u001b[39m, in \u001b[36mexhaust.<locals>.exhaustive_rl\u001b[39m\u001b[34m(expr)\u001b[39m\n\u001b[32m     18\u001b[39m \u001b[38;5;28;01mdef\u001b[39;00m\u001b[38;5;250m \u001b[39m\u001b[34mexhaustive_rl\u001b[39m(expr: _T) -> _T:\n\u001b[32m---> \u001b[39m\u001b[32m19\u001b[39m     new, old = \u001b[43mrule\u001b[49m\u001b[43m(\u001b[49m\u001b[43mexpr\u001b[49m\u001b[43m)\u001b[49m, expr\n\u001b[32m     20\u001b[39m     \u001b[38;5;28;01mwhile\u001b[39;00m new != old:\n\u001b[32m     21\u001b[39m         new, old = rule(new), new\n",
      "\u001b[36mFile \u001b[39m\u001b[32mc:\\Users\\oskar\\Desktop\\Prog\\exjobb\\.venv\\Lib\\site-packages\\sympy\\strategies\\core.py:53\u001b[39m, in \u001b[36mcondition.<locals>.conditioned_rl\u001b[39m\u001b[34m(expr)\u001b[39m\n\u001b[32m     51\u001b[39m \u001b[38;5;28;01mdef\u001b[39;00m\u001b[38;5;250m \u001b[39m\u001b[34mconditioned_rl\u001b[39m(expr: _T) -> _T:\n\u001b[32m     52\u001b[39m     \u001b[38;5;28;01mif\u001b[39;00m cond(expr):\n\u001b[32m---> \u001b[39m\u001b[32m53\u001b[39m         \u001b[38;5;28;01mreturn\u001b[39;00m \u001b[43mrule\u001b[49m\u001b[43m(\u001b[49m\u001b[43mexpr\u001b[49m\u001b[43m)\u001b[49m\n\u001b[32m     54\u001b[39m     \u001b[38;5;28;01mreturn\u001b[39;00m expr\n",
      "\u001b[36mFile \u001b[39m\u001b[32mc:\\Users\\oskar\\Desktop\\Prog\\exjobb\\.venv\\Lib\\site-packages\\sympy\\strategies\\core.py:108\u001b[39m, in \u001b[36mdo_one.<locals>.do_one_rl\u001b[39m\u001b[34m(expr)\u001b[39m\n\u001b[32m    106\u001b[39m \u001b[38;5;28;01mdef\u001b[39;00m\u001b[38;5;250m \u001b[39m\u001b[34mdo_one_rl\u001b[39m(expr: _T) -> _T:\n\u001b[32m    107\u001b[39m     \u001b[38;5;28;01mfor\u001b[39;00m rl \u001b[38;5;129;01min\u001b[39;00m rules:\n\u001b[32m--> \u001b[39m\u001b[32m108\u001b[39m         result = \u001b[43mrl\u001b[49m\u001b[43m(\u001b[49m\u001b[43mexpr\u001b[49m\u001b[43m)\u001b[49m\n\u001b[32m    109\u001b[39m         \u001b[38;5;28;01mif\u001b[39;00m result != expr:\n\u001b[32m    110\u001b[39m             \u001b[38;5;28;01mreturn\u001b[39;00m result\n",
      "\u001b[36mFile \u001b[39m\u001b[32mc:\\Users\\oskar\\Desktop\\Prog\\exjobb\\.venv\\Lib\\site-packages\\sympy\\matrices\\expressions\\kronecker.py:341\u001b[39m, in \u001b[36mexplicit_kronecker_product\u001b[39m\u001b[34m(kron)\u001b[39m\n\u001b[32m    338\u001b[39m \u001b[38;5;28;01mif\u001b[39;00m \u001b[38;5;129;01mnot\u001b[39;00m \u001b[38;5;28mall\u001b[39m(\u001b[38;5;28misinstance\u001b[39m(m, MatrixBase) \u001b[38;5;28;01mfor\u001b[39;00m m \u001b[38;5;129;01min\u001b[39;00m kron.args):\n\u001b[32m    339\u001b[39m     \u001b[38;5;28;01mreturn\u001b[39;00m kron\n\u001b[32m--> \u001b[39m\u001b[32m341\u001b[39m \u001b[38;5;28;01mreturn\u001b[39;00m \u001b[43mmatrix_kronecker_product\u001b[49m\u001b[43m(\u001b[49m\u001b[43m*\u001b[49m\u001b[43mkron\u001b[49m\u001b[43m.\u001b[49m\u001b[43margs\u001b[49m\u001b[43m)\u001b[49m\n",
      "\u001b[36mFile \u001b[39m\u001b[32mc:\\Users\\oskar\\Desktop\\Prog\\exjobb\\.venv\\Lib\\site-packages\\sympy\\matrices\\expressions\\kronecker.py:326\u001b[39m, in \u001b[36mmatrix_kronecker_product\u001b[39m\u001b[34m(*matrices)\u001b[39m\n\u001b[32m    324\u001b[39m             \u001b[38;5;28mnext\u001b[39m = start\n\u001b[32m    325\u001b[39m         \u001b[38;5;28;01melse\u001b[39;00m:\n\u001b[32m--> \u001b[39m\u001b[32m326\u001b[39m             \u001b[38;5;28mnext\u001b[39m = \u001b[38;5;28;43mnext\u001b[39;49m\u001b[43m.\u001b[49m\u001b[43mcol_join\u001b[49m\u001b[43m(\u001b[49m\u001b[43mstart\u001b[49m\u001b[43m)\u001b[49m\n\u001b[32m    327\u001b[39m     matrix_expansion = \u001b[38;5;28mnext\u001b[39m\n\u001b[32m    329\u001b[39m MatrixClass = \u001b[38;5;28mmax\u001b[39m(matrices, key=\u001b[38;5;28;01mlambda\u001b[39;00m M: M._class_priority).\u001b[34m__class__\u001b[39m\n",
      "\u001b[36mFile \u001b[39m\u001b[32mc:\\Users\\oskar\\Desktop\\Prog\\exjobb\\.venv\\Lib\\site-packages\\sympy\\matrices\\matrixbase.py:358\u001b[39m, in \u001b[36mMatrixBase.col_join\u001b[39m\u001b[34m(self, other)\u001b[39m\n\u001b[32m    354\u001b[39m \u001b[38;5;28;01mif\u001b[39;00m \u001b[38;5;28mself\u001b[39m.cols != other.cols:\n\u001b[32m    355\u001b[39m     \u001b[38;5;28;01mraise\u001b[39;00m ShapeError(\n\u001b[32m    356\u001b[39m         \u001b[33m\"\u001b[39m\u001b[33mThe matrices have incompatible number of columns (\u001b[39m\u001b[38;5;132;01m{}\u001b[39;00m\u001b[33m and \u001b[39m\u001b[38;5;132;01m{}\u001b[39;00m\u001b[33m)\u001b[39m\u001b[33m\"\u001b[39m\n\u001b[32m    357\u001b[39m         .format(\u001b[38;5;28mself\u001b[39m.cols, other.cols))\n\u001b[32m--> \u001b[39m\u001b[32m358\u001b[39m \u001b[38;5;28;01mreturn\u001b[39;00m \u001b[38;5;28;43mself\u001b[39;49m\u001b[43m.\u001b[49m\u001b[43m_eval_col_join\u001b[49m\u001b[43m(\u001b[49m\u001b[43mother\u001b[49m\u001b[43m)\u001b[49m\n",
      "\u001b[36mFile \u001b[39m\u001b[32mc:\\Users\\oskar\\Desktop\\Prog\\exjobb\\.venv\\Lib\\site-packages\\sympy\\matrices\\repmatrix.py:327\u001b[39m, in \u001b[36mRepMatrix._eval_col_join\u001b[39m\u001b[34m(self, other)\u001b[39m\n\u001b[32m    326\u001b[39m \u001b[38;5;28;01mdef\u001b[39;00m\u001b[38;5;250m \u001b[39m\u001b[34m_eval_col_join\u001b[39m(\u001b[38;5;28mself\u001b[39m, other):\n\u001b[32m--> \u001b[39m\u001b[32m327\u001b[39m     \u001b[38;5;28;01mreturn\u001b[39;00m \u001b[38;5;28;43mself\u001b[39;49m\u001b[43m.\u001b[49m\u001b[43m_fromrep\u001b[49m\u001b[43m(\u001b[49m\u001b[38;5;28;43mself\u001b[39;49m\u001b[43m.\u001b[49m\u001b[43m_rep\u001b[49m\u001b[43m.\u001b[49m\u001b[43mvstack\u001b[49m\u001b[43m(\u001b[49m\u001b[43mother\u001b[49m\u001b[43m.\u001b[49m\u001b[43m_rep\u001b[49m\u001b[43m)\u001b[49m\u001b[43m)\u001b[49m\n",
      "\u001b[36mFile \u001b[39m\u001b[32mc:\\Users\\oskar\\Desktop\\Prog\\exjobb\\.venv\\Lib\\site-packages\\sympy\\matrices\\immutable.py:129\u001b[39m, in \u001b[36mImmutableDenseMatrix._fromrep\u001b[39m\u001b[34m(cls, rep)\u001b[39m\n\u001b[32m    124\u001b[39m rows, cols = rep.shape\n\u001b[32m    125\u001b[39m flat_list = rep.to_sympy().to_list_flat()\n\u001b[32m    126\u001b[39m obj = Basic.\u001b[34m__new__\u001b[39m(\u001b[38;5;28mcls\u001b[39m,\n\u001b[32m    127\u001b[39m     Integer(rows),\n\u001b[32m    128\u001b[39m     Integer(cols),\n\u001b[32m--> \u001b[39m\u001b[32m129\u001b[39m     \u001b[43mTuple\u001b[49m\u001b[43m(\u001b[49m\u001b[43m*\u001b[49m\u001b[43mflat_list\u001b[49m\u001b[43m,\u001b[49m\u001b[43m \u001b[49m\u001b[43msympify\u001b[49m\u001b[43m=\u001b[49m\u001b[38;5;28;43;01mFalse\u001b[39;49;00m\u001b[43m)\u001b[49m)\n\u001b[32m    130\u001b[39m obj._rows = rows\n\u001b[32m    131\u001b[39m obj._cols = cols\n",
      "\u001b[36mFile \u001b[39m\u001b[32mc:\\Users\\oskar\\Desktop\\Prog\\exjobb\\.venv\\Lib\\site-packages\\sympy\\core\\containers.py:53\u001b[39m, in \u001b[36mTuple.__new__\u001b[39m\u001b[34m(cls, *args, **kwargs)\u001b[39m\n\u001b[32m     52\u001b[39m \u001b[38;5;28;01mdef\u001b[39;00m\u001b[38;5;250m \u001b[39m\u001b[34m__new__\u001b[39m(\u001b[38;5;28mcls\u001b[39m, *args, **kwargs):\n\u001b[32m---> \u001b[39m\u001b[32m53\u001b[39m     \u001b[38;5;28;01mif\u001b[39;00m \u001b[43mkwargs\u001b[49m\u001b[43m.\u001b[49m\u001b[43mget\u001b[49m\u001b[43m(\u001b[49m\u001b[33;43m'\u001b[39;49m\u001b[33;43msympify\u001b[39;49m\u001b[33;43m'\u001b[39;49m\u001b[43m,\u001b[49m\u001b[43m \u001b[49m\u001b[38;5;28;43;01mTrue\u001b[39;49;00m\u001b[43m)\u001b[49m:\n\u001b[32m     54\u001b[39m         args = (sympify(arg) \u001b[38;5;28;01mfor\u001b[39;00m arg \u001b[38;5;129;01min\u001b[39;00m args)\n\u001b[32m     55\u001b[39m     obj = Basic.\u001b[34m__new__\u001b[39m(\u001b[38;5;28mcls\u001b[39m, *args)\n",
      "\u001b[31mKeyboardInterrupt\u001b[39m: "
     ]
    }
   ],
   "source": [
    "from anharm.Hamiltonian import Hamil\n",
    "import sympy as sp\n",
    "H5 = Hamil(8, 3, \"grid\")"
   ]
  }
 ],
 "metadata": {
  "kernelspec": {
   "display_name": ".venv",
   "language": "python",
   "name": "python3"
  },
  "language_info": {
   "codemirror_mode": {
    "name": "ipython",
    "version": 3
   },
   "file_extension": ".py",
   "mimetype": "text/x-python",
   "name": "python",
   "nbconvert_exporter": "python",
   "pygments_lexer": "ipython3",
   "version": "3.12.9"
  }
 },
 "nbformat": 4,
 "nbformat_minor": 5
}
