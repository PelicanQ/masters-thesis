{
 "cells": [
  {
   "cell_type": "code",
   "execution_count": 2,
   "id": "c7763b48",
   "metadata": {},
   "outputs": [
    {
     "data": {
      "text/latex": [
       "$\\displaystyle \\frac{g_{0,2}^{2} g_{2,3}^{2} \\left(\\frac{1}{\\Delta_{0,1} + \\Delta_{1,2}} - \\frac{1}{\\Delta_{2,3}}\\right)^{2}}{4 \\left(\\Delta_{0,1} + \\Delta_{1,2} + \\Delta_{2,3}\\right)} + \\frac{3 g_{0,2}^{2} g_{2,3}^{2}}{4 \\Delta_{2,3} \\left(\\Delta_{0,1} + \\Delta_{1,2}\\right)^{2}} - \\frac{g_{0,2}^{2} g_{2,3}^{2}}{4 \\Delta_{2,3}^{2} \\left(\\Delta_{0,1} + \\Delta_{1,2}\\right)}$"
      ],
      "text/plain": [
       "g_{0,2}**2*g_{2,3}**2*(1/(\\Delta_{0,1} + \\Delta_{1,2}) - 1/\\Delta_{2,3})**2/(4*(\\Delta_{0,1} + \\Delta_{1,2} + \\Delta_{2,3})) + 3*g_{0,2}**2*g_{2,3}**2/(4*\\Delta_{2,3}*(\\Delta_{0,1} + \\Delta_{1,2})**2) - g_{0,2}**2*g_{2,3}**2/(4*\\Delta_{2,3}**2*(\\Delta_{0,1} + \\Delta_{1,2}))"
      ]
     },
     "metadata": {},
     "output_type": "display_data"
    }
   ],
   "source": [
    "from anharm.Hamiltonian import Hamil\n",
    "import sympy as sp\n",
    "import numpy as np\n",
    "H = Hamil(4, 4, \"4\")\n",
    "H3 = Hamil(3, 4, \"triang\")\n",
    "e = H.split_deltas(H.get_all(\"1000\", False))\n",
    "e3 = H3.split_deltas(H3.get_all(\"100\", False))\n",
    "e_diff = e-e3\n",
    "display(e_diff)\n"
   ]
  },
  {
   "cell_type": "code",
   "execution_count": null,
   "id": "402e8412",
   "metadata": {},
   "outputs": [
    {
     "data": {
      "text/latex": [
       "$\\displaystyle - \\frac{g_{0,2}^{2} g_{2,3}^{2}}{\\Delta_{2,3} \\left(\\Delta_{0,1} + \\Delta_{1,2}\\right)^{2}} + \\frac{g_{2,3}^{2} \\left(1 - \\frac{g_{2,3}^{2}}{\\Delta_{2,3}^{2}}\\right)}{\\Delta_{2,3}} + \\frac{g_{0,2}^{2} g_{2,3}^{2}}{\\Delta_{2,3}^{2} \\left(\\Delta_{0,1} + \\Delta_{1,2}\\right)} + \\frac{g_{1,2}^{2} g_{2,3}^{2}}{\\Delta_{1,2} \\Delta_{2,3}^{2}} - \\frac{g_{1,2}^{2} g_{2,3}^{2}}{\\Delta_{1,2}^{2} \\Delta_{2,3}}$"
      ],
      "text/plain": [
       "-g_{0,2}**2*g_{2,3}**2/(\\Delta_{2,3}*(\\Delta_{0,1} + \\Delta_{1,2})**2) + g_{2,3}**2*(1 - g_{2,3}**2/\\Delta_{2,3}**2)/\\Delta_{2,3} + g_{0,2}**2*g_{2,3}**2/(\\Delta_{2,3}**2*(\\Delta_{0,1} + \\Delta_{1,2})) + g_{1,2}**2*g_{2,3}**2/(\\Delta_{1,2}*\\Delta_{2,3}**2) - g_{1,2}**2*g_{2,3}**2/(\\Delta_{1,2}**2*\\Delta_{2,3})"
      ]
     },
     "metadata": {},
     "output_type": "display_data"
    }
   ],
   "source": [
    "e = H.split_deltas(H.get_all(\"0010\", False))\n",
    "e3 = H3.split_deltas(H3.get_all(\"001\", False))\n",
    "e_diff = e-e3\n",
    "display(e_diff)"
   ]
  },
  {
   "cell_type": "code",
   "execution_count": null,
   "id": "90b0ac15",
   "metadata": {},
   "outputs": [
    {
     "data": {
      "text/latex": [
       "$\\displaystyle - \\frac{g_{0,2}^{2} g_{2,3}^{2}}{\\left(\\Delta_{0,2} - \\alpha_{2}\\right) \\left(\\Delta_{2,3} + \\alpha_{2}\\right)^{2}} + \\frac{3 g_{0,2}^{2} g_{2,3}^{2}}{\\left(\\Delta_{0,2} - \\alpha_{2}\\right)^{2} \\left(\\Delta_{2,3} + \\alpha_{2}\\right)} + \\frac{3 g_{0,2}^{2} g_{2,3}^{2}}{4 \\Delta_{0,2} \\Delta_{2,3}^{2}} - \\frac{g_{0,2}^{2} g_{2,3}^{2}}{4 \\Delta_{0,2}^{2} \\Delta_{2,3}} + \\frac{g_{0,1}^{2} g_{2,3}^{2}}{2 \\Delta_{0,1} \\Delta_{2,3}^{2}} + \\frac{g_{0,1}^{2} g_{2,3}^{2}}{2 \\Delta_{0,1}^{2} \\Delta_{2,3}}$"
      ],
      "text/plain": [
       "-g_{0,2}**2*g_{2,3}**2/((\\Delta_{0,2} - \\alpha_{2})*(\\Delta_{2,3} + \\alpha_{2})**2) + 3*g_{0,2}**2*g_{2,3}**2/((\\Delta_{0,2} - \\alpha_{2})**2*(\\Delta_{2,3} + \\alpha_{2})) + 3*g_{0,2}**2*g_{2,3}**2/(4*\\Delta_{0,2}*\\Delta_{2,3}**2) - g_{0,2}**2*g_{2,3}**2/(4*\\Delta_{0,2}**2*\\Delta_{2,3}) + g_{0,1}**2*g_{2,3}**2/(2*\\Delta_{0,1}*\\Delta_{2,3}**2) + g_{0,1}**2*g_{2,3}**2/(2*\\Delta_{0,1}**2*\\Delta_{2,3})"
      ]
     },
     "metadata": {},
     "output_type": "display_data"
    },
    {
     "data": {
      "text/latex": [
       "$\\displaystyle - \\frac{2 g_{0,2}^{2} g_{2,3}^{2}}{\\Delta_{2,3} \\left(\\Delta_{0,2} - \\alpha_{2}\\right)^{2}} - \\frac{2 g_{0,2}^{2} g_{2,3}^{2}}{\\Delta_{2,3} \\left(- \\Delta_{0,2} - \\alpha_{0}\\right)^{2}} - \\frac{2 g_{0,2}^{2} g_{2,3}^{2}}{\\Delta_{2,3}^{2} \\left(\\Delta_{0,2} - \\alpha_{2}\\right)} - \\frac{2 g_{0,2}^{2} g_{2,3}^{2}}{\\Delta_{2,3}^{2} \\left(- \\Delta_{0,2} - \\alpha_{0}\\right)} + \\frac{g_{1,2}^{2} g_{2,3}^{2}}{\\Delta_{1,2} \\Delta_{2,3}^{2}} - \\frac{g_{1,2}^{2} g_{2,3}^{2}}{\\Delta_{1,2}^{2} \\Delta_{2,3}} - \\frac{g_{0,1}^{2} g_{2,3}^{2}}{\\Delta_{0,1} \\Delta_{2,3}^{2}} - \\frac{g_{0,1}^{2} g_{2,3}^{2}}{\\Delta_{0,1}^{2} \\Delta_{2,3}}$"
      ],
      "text/plain": [
       "-2*g_{0,2}**2*g_{2,3}**2/(\\Delta_{2,3}*(\\Delta_{0,2} - \\alpha_{2})**2) - 2*g_{0,2}**2*g_{2,3}**2/(\\Delta_{2,3}*(-\\Delta_{0,2} - \\alpha_{0})**2) - 2*g_{0,2}**2*g_{2,3}**2/(\\Delta_{2,3}**2*(\\Delta_{0,2} - \\alpha_{2})) - 2*g_{0,2}**2*g_{2,3}**2/(\\Delta_{2,3}**2*(-\\Delta_{0,2} - \\alpha_{0})) + g_{1,2}**2*g_{2,3}**2/(\\Delta_{1,2}*\\Delta_{2,3}**2) - g_{1,2}**2*g_{2,3}**2/(\\Delta_{1,2}**2*\\Delta_{2,3}) - g_{0,1}**2*g_{2,3}**2/(\\Delta_{0,1}*\\Delta_{2,3}**2) - g_{0,1}**2*g_{2,3}**2/(\\Delta_{0,1}**2*\\Delta_{2,3})"
      ]
     },
     "metadata": {},
     "output_type": "display_data"
    }
   ],
   "source": [
    "e = H.split_deltas(H.get_all(\"1010\", False))\n",
    "e3 = H3.split_deltas(H3.get_all(\"101\", False))\n",
    "e_diff = e-e3\n",
    "display(H.get_legs(\"1010\")-H3.get_legs(\"101\"))\n",
    "display(H.get_birds(\"1010\")-H3.get_birds(\"101\"))"
   ]
  },
  {
   "cell_type": "code",
   "execution_count": 4,
   "id": "c4807b43",
   "metadata": {},
   "outputs": [],
   "source": [
    "import sympy as sp\n",
    "e = H.split_deltas(H.zzexpr(\"1010\"))\n",
    "e3 = H3.split_deltas(H3.zzexpr(\"101\"))\n",
    "e_diff = e-e3"
   ]
  },
  {
   "cell_type": "code",
   "execution_count": 12,
   "id": "afde4807",
   "metadata": {},
   "outputs": [
    {
     "data": {
      "text/latex": [
       "$\\displaystyle - \\frac{2 g_{0,2}^{2} g_{2,3}^{2}}{\\Delta_{2,3} \\left(\\Delta_{0,2} - \\alpha_{2}\\right)^{2}} - \\frac{2 g_{0,2}^{2} g_{2,3}^{2}}{\\Delta_{2,3} \\left(- \\Delta_{0,2} - \\alpha_{0}\\right)^{2}} - \\frac{2 g_{0,2}^{2} g_{2,3}^{2}}{\\Delta_{2,3}^{2} \\left(\\Delta_{0,2} - \\alpha_{2}\\right)} - \\frac{2 g_{0,2}^{2} g_{2,3}^{2}}{\\Delta_{2,3}^{2} \\left(- \\Delta_{0,2} - \\alpha_{0}\\right)} - \\frac{g_{0,2}^{2} g_{2,3}^{2} \\left(- \\frac{1}{\\Delta_{2,3}} + \\frac{1}{\\Delta_{0,2}}\\right)^{2}}{4 \\Delta_{0,3}} + \\frac{\\left(\\frac{2 g_{0,2} g_{2,3}}{\\Delta_{0,2} - \\alpha_{2}} + \\frac{g_{0,2} g_{2,3}}{\\Delta_{2,3}}\\right)^{2}}{\\Delta_{0,3}} - \\frac{3 g_{0,2}^{2} g_{2,3}^{2}}{4 \\Delta_{0,2} \\Delta_{2,3}^{2}} + \\frac{g_{0,2}^{2} g_{2,3}^{2}}{4 \\Delta_{0,2}^{2} \\Delta_{2,3}}$"
      ],
      "text/plain": [
       "-2*g_{0,2}**2*g_{2,3}**2/(\\Delta_{2,3}*(\\Delta_{0,2} - \\alpha_{2})**2) - 2*g_{0,2}**2*g_{2,3}**2/(\\Delta_{2,3}*(-\\Delta_{0,2} - \\alpha_{0})**2) - 2*g_{0,2}**2*g_{2,3}**2/(\\Delta_{2,3}**2*(\\Delta_{0,2} - \\alpha_{2})) - 2*g_{0,2}**2*g_{2,3}**2/(\\Delta_{2,3}**2*(-\\Delta_{0,2} - \\alpha_{0})) - g_{0,2}**2*g_{2,3}**2*(-1/\\Delta_{2,3} + 1/\\Delta_{0,2})**2/(4*\\Delta_{0,3}) + (2*g_{0,2}*g_{2,3}/(\\Delta_{0,2} - \\alpha_{2}) + g_{0,2}*g_{2,3}/\\Delta_{2,3})**2/\\Delta_{0,3} - 3*g_{0,2}**2*g_{2,3}**2/(4*\\Delta_{0,2}*\\Delta_{2,3}**2) + g_{0,2}**2*g_{2,3}**2/(4*\\Delta_{0,2}**2*\\Delta_{2,3})"
      ]
     },
     "metadata": {},
     "output_type": "display_data"
    }
   ],
   "source": [
    "from anharm.four.makezz import getextrazz13\n",
    "H = Hamil(4, 4, \"4\")\n",
    "H3 = Hamil(3, 4, \"triang\")\n",
    "space1 = H.get_subspace(1)\n",
    "space2 = H.get_subspace(2)\n",
    "extra1000 = space1.get_second_edge(\"1000\", \"0001\", False) + space1.get_leg(\"1000\", \"0010\", \"0001\")\n",
    "extra0010 = (\n",
    "    space1.get_bird(\"0010\", \"0001\", \"1000\")\n",
    "    + space1.get_bird(\"0010\", \"0001\", \"0100\")\n",
    "    + space1.get_edge(\"0010\", \"0001\")\n",
    ")\n",
    "extra1 = extra1000 + extra0010\n",
    "\n",
    "four = space2.get_4loop_contraction(\"1010\", \"0011\")\n",
    "edge = space2.get_edge(\"1010\", \"1001\")\n",
    "nn = [\"0020\", \"1100\", \"2000\"]  # neighbors for birds\n",
    "birds = sum([space2.get_bird(\"1010\", \"1001\", n) for n in nn])\n",
    "extra2 = four + edge + birds\n",
    "extrazz = extra2 - extra1\n",
    "\n",
    "e = H.split_deltas(H.zzexpr(\"1010\")-H3.zzexpr(\"101\"))\n",
    "f,v=H.lambdify_expr(sp.simplify(e))\n",
    "v\n",
    "# sp.collect(sp.expand(e),[sp.Symbol(\"g_{0,1}\")])\n",
    "display(extrazz)\n",
    "# ee = space2.get_4loop_contraction(\"1010\", \"1100\")-space2.get_bird(\"1010\", \"2000\",\"0110\")\n",
    "# H.zzexpr(\"1010\", type=\"second\")-H3.zzexpr(\"101\", type=\"second\")"
   ]
  }
 ],
 "metadata": {
  "kernelspec": {
   "display_name": ".venv",
   "language": "python",
   "name": "python3"
  },
  "language_info": {
   "codemirror_mode": {
    "name": "ipython",
    "version": 3
   },
   "file_extension": ".py",
   "mimetype": "text/x-python",
   "name": "python",
   "nbconvert_exporter": "python",
   "pygments_lexer": "ipython3",
   "version": "3.12.9"
  }
 },
 "nbformat": 4,
 "nbformat_minor": 5
}
