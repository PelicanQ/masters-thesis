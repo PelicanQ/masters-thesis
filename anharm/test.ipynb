{
 "cells": [
  {
   "cell_type": "code",
   "execution_count": null,
   "metadata": {},
   "outputs": [],
   "source": [
    "%load_ext autoreload\n",
    "%autoreload\n",
    "import sympy as sp\n",
    "from sympy import Symbol\n",
    "import pandas as pd\n",
    "import numpy as np\n",
    "from sympy.parsing.latex import parse_latex\n",
    "from hamil import Hgen\n",
    "from diagrams import Subspace, Hamil\n",
    "import matplotlib"
   ]
  },
  {
   "cell_type": "code",
   "execution_count": 2,
   "metadata": {},
   "outputs": [
    {
     "data": {
      "text/plain": [
       "[\\alpha_0, \\alpha_1, g_{0,1}, \\Delta_{0,1}]"
      ]
     },
     "metadata": {},
     "output_type": "display_data"
    },
    {
     "data": {
      "text/plain": [
       "[\\alpha_0, \\alpha_1, g_{0,1}, \\Delta_{0,1}]"
      ]
     },
     "metadata": {},
     "output_type": "display_data"
    }
   ],
   "source": [
    "from zz import zzorder2, zzorder4, zz\n",
    "N = 2\n",
    "statesperbit = 5\n",
    "Ham  = Hamil(N, statesperbit, \"line\")\n",
    "ex2 = Ham.to_delta(Ham.zzexpr(\"11\", 2))\n",
    "ex4 = Ham.to_delta(Ham.zzexpr(\"11\", 4))\n",
    "deps2 = Ham.symbols_in_expr(ex2)\n",
    "deps4 = Ham.symbols_in_expr(ex4)\n",
    "funczz2 = sp.lambdify(deps2, ex2, modules=\"numpy\")\n",
    "funczz4 = sp.lambdify(deps4, ex4, modules=\"numpy\")\n",
    "display(deps2)\n",
    "display(deps4)\n"
   ]
  },
  {
   "cell_type": "code",
   "execution_count": 3,
   "metadata": {},
   "outputs": [],
   "source": [
    "from matplotlib import pyplot as plt\n",
    "# now let's plot\n",
    "# units g\n",
    "g=1 \n",
    "alpha0=-2\n",
    "alpha1=-2\n",
    "deltas = np.linspace(-8, 8, 1000)\n",
    "\n",
    "zzvals = funczz2(alpha0, alpha1, g, deltas) + funczz4(alpha0, alpha1, g, deltas)\n",
    "zzb = zz(alpha0, alpha1, g, deltas)\n",
    "plt.plot(deltas, zzvals, marker='.', linewidth=0)\n",
    "plt.ylim([-2,2])\n",
    "plt.plot(deltas, zzb)\n",
    "plt.show()"
   ]
  },
  {
   "cell_type": "code",
   "execution_count": null,
   "metadata": {},
   "outputs": [],
   "source": []
  }
 ],
 "metadata": {
  "kernelspec": {
   "display_name": ".venv",
   "language": "python",
   "name": "python3"
  },
  "language_info": {
   "codemirror_mode": {
    "name": "ipython",
    "version": 3
   },
   "file_extension": ".py",
   "mimetype": "text/x-python",
   "name": "python",
   "nbconvert_exporter": "python",
   "pygments_lexer": "ipython3",
   "version": "3.12.9"
  }
 },
 "nbformat": 4,
 "nbformat_minor": 2
}
