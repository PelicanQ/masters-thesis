{
 "cells": [
  {
   "cell_type": "code",
   "execution_count": null,
   "id": "e718d233",
   "metadata": {},
   "outputs": [
    {
     "data": {
      "text/latex": [
       "$\\displaystyle - \\frac{\\left(g^{(2)}_{002,101}\\right)^{2}}{\\Delta_{0,2} - \\alpha_{2}} + \\frac{\\left(g^{(2)}_{012,111}\\right)^{2}}{\\Delta_{0,2} - \\alpha_{2}} - \\frac{\\left(g^{(2)}_{101,200}\\right)^{2}}{- \\Delta_{0,2} - \\alpha_{0}} + \\frac{\\left(g^{(2)}_{111,210}\\right)^{2}}{- \\Delta_{0,2} - \\alpha_{0}} - \\frac{2 g_{0,1}^{2} g_{1,2}^{2}}{\\left(\\Delta_{0,1} - \\alpha_{1}\\right) \\left(\\Delta_{0,1} + \\alpha_{1} - \\alpha_{2}\\right)^{2}} - \\frac{3 g_{0,1}^{2} g_{1,2}^{2}}{\\left(\\Delta_{0,1} - \\alpha_{1}\\right) \\left(\\Delta_{0,1} - \\alpha_{2}\\right) \\left(- \\Delta_{0,1} - \\alpha_{1} + \\alpha_{2}\\right)} - \\frac{4 g_{0,1}^{2} g_{1,2}^{2}}{\\left(\\Delta_{0,1} - \\alpha_{1}\\right) \\left(\\Delta_{0,1} - \\alpha_{2}\\right)^{2}} + \\frac{g_{0,1}^{2} g_{1,2}^{2}}{\\left(\\Delta_{0,1} - \\alpha_{1}\\right) \\left(\\Delta_{0,1} + \\alpha_{1}\\right)^{2}} + \\frac{6 g_{0,1}^{2} g_{1,2}^{2}}{\\left(\\Delta_{0,1} - \\alpha_{1}\\right)^{2} \\left(\\Delta_{0,1} + \\alpha_{1} - \\alpha_{2}\\right)} - \\frac{4 g_{0,1}^{2} g_{1,2}^{2}}{\\left(\\Delta_{0,1} - \\alpha_{1}\\right)^{2} \\left(\\Delta_{0,1} - \\alpha_{2}\\right)} - \\frac{3 g_{0,1}^{2} g_{1,2}^{2}}{\\left(\\Delta_{0,1} - \\alpha_{1}\\right)^{2} \\left(\\Delta_{0,1} + \\alpha_{1}\\right)} - \\frac{2 g_{0,1}^{2} g_{1,2}^{2}}{\\left(- \\Delta_{0,1} - \\alpha_{1}\\right) \\left(- \\Delta_{0,1} - \\alpha_{0} + \\alpha_{1}\\right)^{2}} - \\frac{4 g_{0,1}^{2} g_{1,2}^{2}}{\\left(- \\Delta_{0,1} - \\alpha_{1}\\right) \\left(\\Delta_{0,1} - \\alpha_{1}\\right)^{2}} - \\frac{3 g_{0,1}^{2} g_{1,2}^{2}}{2 \\left(- \\Delta_{0,1} - \\alpha_{1}\\right) \\left(\\Delta_{0,1} - 2 \\alpha_{1}\\right)^{2}} - \\frac{9 g_{0,1}^{2} g_{1,2}^{2}}{2 \\left(- \\Delta_{0,1} - \\alpha_{1}\\right) \\left(- \\Delta_{0,1} + 2 \\alpha_{1}\\right) \\left(\\Delta_{0,1} - \\alpha_{1}\\right)} + \\frac{g_{0,1}^{2} g_{1,2}^{2}}{\\left(- \\Delta_{0,1} - \\alpha_{1}\\right) \\left(- \\Delta_{0,1} + \\alpha_{1}\\right)^{2}} + \\frac{6 g_{0,1}^{2} g_{1,2}^{2}}{\\left(- \\Delta_{0,1} - \\alpha_{1}\\right)^{2} \\left(- \\Delta_{0,1} - \\alpha_{0} + \\alpha_{1}\\right)} - \\frac{4 g_{0,1}^{2} g_{1,2}^{2}}{\\left(- \\Delta_{0,1} - \\alpha_{1}\\right)^{2} \\left(\\Delta_{0,1} - \\alpha_{1}\\right)} + \\frac{9 g_{0,1}^{2} g_{1,2}^{2}}{2 \\left(- \\Delta_{0,1} - \\alpha_{1}\\right)^{2} \\left(\\Delta_{0,1} - 2 \\alpha_{1}\\right)} - \\frac{3 g_{0,1}^{2} g_{1,2}^{2}}{\\left(- \\Delta_{0,1} - \\alpha_{1}\\right)^{2} \\left(- \\Delta_{0,1} + \\alpha_{1}\\right)} + \\frac{9 g_{0,1}^{2} g_{1,2}^{2}}{2 \\left(- \\Delta_{0,1} - 2 \\alpha_{1}\\right) \\left(\\Delta_{0,1} - \\alpha_{1}\\right)^{2}} + \\frac{3 g_{0,1}^{2} g_{1,2}^{2}}{2 \\left(- \\Delta_{0,1} - 2 \\alpha_{1}\\right) \\left(- \\Delta_{0,1} + 2 \\alpha_{1}\\right) \\left(\\Delta_{0,1} - \\alpha_{1}\\right)} + \\frac{9 g_{0,1}^{2} g_{1,2}^{2}}{2 \\left(- \\Delta_{0,1} - 2 \\alpha_{1}\\right) \\left(- \\Delta_{0,1} - \\alpha_{1}\\right) \\left(\\Delta_{0,1} - \\alpha_{1}\\right)} + \\frac{3 g_{0,1}^{2} g_{1,2}^{2}}{2 \\left(- \\Delta_{0,1} - 2 \\alpha_{1}\\right) \\left(- \\Delta_{0,1} - \\alpha_{1}\\right) \\left(- \\Delta_{0,1} + 2 \\alpha_{1}\\right)} - \\frac{3 g_{0,1}^{2} g_{1,2}^{2}}{2 \\left(- \\Delta_{0,1} - 2 \\alpha_{1}\\right)^{2} \\left(\\Delta_{0,1} - \\alpha_{1}\\right)} - \\frac{4 g_{0,1}^{2} g_{1,2}^{2}}{\\left(- \\Delta_{0,1} - \\alpha_{0}\\right) \\left(\\Delta_{0,1} - \\alpha_{2}\\right)^{2}} + \\frac{3 g_{0,1}^{2} g_{1,2}^{2}}{\\left(- \\Delta_{0,1} - \\alpha_{0}\\right) \\left(- \\Delta_{0,1} - \\alpha_{1}\\right) \\left(- \\Delta_{0,1} - \\alpha_{0} + \\alpha_{1}\\right)} - \\frac{4 g_{0,1}^{2} g_{1,2}^{2}}{\\left(- \\Delta_{0,1} - \\alpha_{0}\\right) \\left(- \\Delta_{0,1} - \\alpha_{1}\\right)^{2}} - \\frac{4 g_{0,1}^{2} g_{1,2}^{2}}{\\left(- \\Delta_{0,1} - \\alpha_{0}\\right)^{2} \\left(\\Delta_{0,1} - \\alpha_{2}\\right)} - \\frac{4 g_{0,1}^{2} g_{1,2}^{2}}{\\left(- \\Delta_{0,1} - \\alpha_{0}\\right)^{2} \\left(- \\Delta_{0,1} - \\alpha_{1}\\right)} + \\frac{\\left(g^{(2)}_{020,101}\\right)^{2}}{\\alpha_{1}} - \\frac{\\left(g^{(2)}_{030,111}\\right)^{2}}{3 \\alpha_{1}} + \\frac{g_{0,1}^{2} g_{1,2}^{2}}{\\Delta_{0,1} \\left(\\Delta_{0,1} - \\alpha_{2}\\right) \\left(- \\Delta_{0,1} - \\alpha_{1} + \\alpha_{2}\\right)} + \\frac{g_{0,1}^{2} g_{1,2}^{2}}{\\Delta_{0,1} \\left(\\Delta_{0,1} - \\alpha_{1}\\right) \\left(- \\Delta_{0,1} - \\alpha_{1} + \\alpha_{2}\\right)} + \\frac{3 g_{0,1}^{2} g_{1,2}^{2}}{\\Delta_{0,1} \\left(\\Delta_{0,1} - \\alpha_{1}\\right) \\left(\\Delta_{0,1} - \\alpha_{2}\\right)} + \\frac{3 g_{0,1}^{2} g_{1,2}^{2}}{2 \\Delta_{0,1} \\left(\\Delta_{0,1} - \\alpha_{1}\\right)^{2}} + \\frac{g_{0,1}^{2} g_{1,2}^{2}}{\\Delta_{0,1} \\left(- \\Delta_{0,1} - \\alpha_{1}\\right) \\left(- \\Delta_{0,1} - \\alpha_{0} + \\alpha_{1}\\right)} + \\frac{g_{0,1}^{2} g_{1,2}^{2}}{\\Delta_{0,1} \\left(- \\Delta_{0,1} - \\alpha_{1}\\right) \\left(\\Delta_{0,1} - \\alpha_{1}\\right)} + \\frac{g_{0,1}^{2} g_{1,2}^{2}}{\\Delta_{0,1} \\left(- \\Delta_{0,1} - \\alpha_{1}\\right) \\left(- \\Delta_{0,1} + \\alpha_{1}\\right)} - \\frac{3 g_{0,1}^{2} g_{1,2}^{2}}{2 \\Delta_{0,1} \\left(- \\Delta_{0,1} - \\alpha_{1}\\right)^{2}} + \\frac{g_{0,1}^{2} g_{1,2}^{2}}{\\Delta_{0,1} \\left(- \\Delta_{0,1} - \\alpha_{0}\\right) \\left(- \\Delta_{0,1} - \\alpha_{0} + \\alpha_{1}\\right)} - \\frac{3 g_{0,1}^{2} g_{1,2}^{2}}{\\Delta_{0,1} \\left(- \\Delta_{0,1} - \\alpha_{0}\\right) \\left(- \\Delta_{0,1} - \\alpha_{1}\\right)} - \\frac{g_{0,1}^{2} g_{1,2}^{2}}{\\Delta_{0,1}^{2} \\left(\\Delta_{0,1} - \\alpha_{1}\\right)} - \\frac{g_{0,1}^{2} g_{1,2}^{2}}{\\Delta_{0,1}^{2} \\left(- \\Delta_{0,1} + \\alpha_{1}\\right)}$"
      ],
      "text/plain": [
       "-g^{(2)}_{002,101}**2/(\\Delta_{0,2} - \\alpha_{2}) + g^{(2)}_{012,111}**2/(\\Delta_{0,2} - \\alpha_{2}) - g^{(2)}_{101,200}**2/(-\\Delta_{0,2} - \\alpha_{0}) + g^{(2)}_{111,210}**2/(-\\Delta_{0,2} - \\alpha_{0}) - 2*g_{0,1}**2*g_{1,2}**2/((\\Delta_{0,1} - \\alpha_{1})*(\\Delta_{0,1} + \\alpha_{1} - \\alpha_{2})**2) - 3*g_{0,1}**2*g_{1,2}**2/((\\Delta_{0,1} - \\alpha_{1})*(\\Delta_{0,1} - \\alpha_{2})*(-\\Delta_{0,1} - \\alpha_{1} + \\alpha_{2})) - 4*g_{0,1}**2*g_{1,2}**2/((\\Delta_{0,1} - \\alpha_{1})*(\\Delta_{0,1} - \\alpha_{2})**2) + g_{0,1}**2*g_{1,2}**2/((\\Delta_{0,1} - \\alpha_{1})*(\\Delta_{0,1} + \\alpha_{1})**2) + 6*g_{0,1}**2*g_{1,2}**2/((\\Delta_{0,1} - \\alpha_{1})**2*(\\Delta_{0,1} + \\alpha_{1} - \\alpha_{2})) - 4*g_{0,1}**2*g_{1,2}**2/((\\Delta_{0,1} - \\alpha_{1})**2*(\\Delta_{0,1} - \\alpha_{2})) - 3*g_{0,1}**2*g_{1,2}**2/((\\Delta_{0,1} - \\alpha_{1})**2*(\\Delta_{0,1} + \\alpha_{1})) - 2*g_{0,1}**2*g_{1,2}**2/((-\\Delta_{0,1} - \\alpha_{1})*(-\\Delta_{0,1} - \\alpha_{0} + \\alpha_{1})**2) - 4*g_{0,1}**2*g_{1,2}**2/((-\\Delta_{0,1} - \\alpha_{1})*(\\Delta_{0,1} - \\alpha_{1})**2) - 3*g_{0,1}**2*g_{1,2}**2/(2*(-\\Delta_{0,1} - \\alpha_{1})*(\\Delta_{0,1} - 2*\\alpha_{1})**2) - 9*g_{0,1}**2*g_{1,2}**2/(2*(-\\Delta_{0,1} - \\alpha_{1})*(-\\Delta_{0,1} + 2*\\alpha_{1})*(\\Delta_{0,1} - \\alpha_{1})) + g_{0,1}**2*g_{1,2}**2/((-\\Delta_{0,1} - \\alpha_{1})*(-\\Delta_{0,1} + \\alpha_{1})**2) + 6*g_{0,1}**2*g_{1,2}**2/((-\\Delta_{0,1} - \\alpha_{1})**2*(-\\Delta_{0,1} - \\alpha_{0} + \\alpha_{1})) - 4*g_{0,1}**2*g_{1,2}**2/((-\\Delta_{0,1} - \\alpha_{1})**2*(\\Delta_{0,1} - \\alpha_{1})) + 9*g_{0,1}**2*g_{1,2}**2/(2*(-\\Delta_{0,1} - \\alpha_{1})**2*(\\Delta_{0,1} - 2*\\alpha_{1})) - 3*g_{0,1}**2*g_{1,2}**2/((-\\Delta_{0,1} - \\alpha_{1})**2*(-\\Delta_{0,1} + \\alpha_{1})) + 9*g_{0,1}**2*g_{1,2}**2/(2*(-\\Delta_{0,1} - 2*\\alpha_{1})*(\\Delta_{0,1} - \\alpha_{1})**2) + 3*g_{0,1}**2*g_{1,2}**2/(2*(-\\Delta_{0,1} - 2*\\alpha_{1})*(-\\Delta_{0,1} + 2*\\alpha_{1})*(\\Delta_{0,1} - \\alpha_{1})) + 9*g_{0,1}**2*g_{1,2}**2/(2*(-\\Delta_{0,1} - 2*\\alpha_{1})*(-\\Delta_{0,1} - \\alpha_{1})*(\\Delta_{0,1} - \\alpha_{1})) + 3*g_{0,1}**2*g_{1,2}**2/(2*(-\\Delta_{0,1} - 2*\\alpha_{1})*(-\\Delta_{0,1} - \\alpha_{1})*(-\\Delta_{0,1} + 2*\\alpha_{1})) - 3*g_{0,1}**2*g_{1,2}**2/(2*(-\\Delta_{0,1} - 2*\\alpha_{1})**2*(\\Delta_{0,1} - \\alpha_{1})) - 4*g_{0,1}**2*g_{1,2}**2/((-\\Delta_{0,1} - \\alpha_{0})*(\\Delta_{0,1} - \\alpha_{2})**2) + 3*g_{0,1}**2*g_{1,2}**2/((-\\Delta_{0,1} - \\alpha_{0})*(-\\Delta_{0,1} - \\alpha_{1})*(-\\Delta_{0,1} - \\alpha_{0} + \\alpha_{1})) - 4*g_{0,1}**2*g_{1,2}**2/((-\\Delta_{0,1} - \\alpha_{0})*(-\\Delta_{0,1} - \\alpha_{1})**2) - 4*g_{0,1}**2*g_{1,2}**2/((-\\Delta_{0,1} - \\alpha_{0})**2*(\\Delta_{0,1} - \\alpha_{2})) - 4*g_{0,1}**2*g_{1,2}**2/((-\\Delta_{0,1} - \\alpha_{0})**2*(-\\Delta_{0,1} - \\alpha_{1})) + g^{(2)}_{020,101}**2/\\alpha_{1} - g^{(2)}_{030,111}**2/(3*\\alpha_{1}) + g_{0,1}**2*g_{1,2}**2/(\\Delta_{0,1}*(\\Delta_{0,1} - \\alpha_{2})*(-\\Delta_{0,1} - \\alpha_{1} + \\alpha_{2})) + g_{0,1}**2*g_{1,2}**2/(\\Delta_{0,1}*(\\Delta_{0,1} - \\alpha_{1})*(-\\Delta_{0,1} - \\alpha_{1} + \\alpha_{2})) + 3*g_{0,1}**2*g_{1,2}**2/(\\Delta_{0,1}*(\\Delta_{0,1} - \\alpha_{1})*(\\Delta_{0,1} - \\alpha_{2})) + 3*g_{0,1}**2*g_{1,2}**2/(2*\\Delta_{0,1}*(\\Delta_{0,1} - \\alpha_{1})**2) + g_{0,1}**2*g_{1,2}**2/(\\Delta_{0,1}*(-\\Delta_{0,1} - \\alpha_{1})*(-\\Delta_{0,1} - \\alpha_{0} + \\alpha_{1})) + g_{0,1}**2*g_{1,2}**2/(\\Delta_{0,1}*(-\\Delta_{0,1} - \\alpha_{1})*(\\Delta_{0,1} - \\alpha_{1})) + g_{0,1}**2*g_{1,2}**2/(\\Delta_{0,1}*(-\\Delta_{0,1} - \\alpha_{1})*(-\\Delta_{0,1} + \\alpha_{1})) - 3*g_{0,1}**2*g_{1,2}**2/(2*\\Delta_{0,1}*(-\\Delta_{0,1} - \\alpha_{1})**2) + g_{0,1}**2*g_{1,2}**2/(\\Delta_{0,1}*(-\\Delta_{0,1} - \\alpha_{0})*(-\\Delta_{0,1} - \\alpha_{0} + \\alpha_{1})) - 3*g_{0,1}**2*g_{1,2}**2/(\\Delta_{0,1}*(-\\Delta_{0,1} - \\alpha_{0})*(-\\Delta_{0,1} - \\alpha_{1})) - g_{0,1}**2*g_{1,2}**2/(\\Delta_{0,1}**2*(\\Delta_{0,1} - \\alpha_{1})) - g_{0,1}**2*g_{1,2}**2/(\\Delta_{0,1}**2*(-\\Delta_{0,1} + \\alpha_{1}))"
      ]
     },
     "execution_count": 19,
     "metadata": {},
     "output_type": "execute_result"
    }
   ],
   "source": [
    "from anharm.Hamiltonian import Hamil\n",
    "import sympy as sp\n",
    "H = Hamil(3, 5, \"line\")\n",
    "d = H.zzexpr(\"111\", keep_second_coupling=True)-H.zzexpr(\"110\", keep_second_coupling=True)-H.zzexpr(\"011\", keep_second_coupling=True)-H.zzexpr(\"101\", keep_second_coupling=True)\n",
    "# s = sp.collect(d, sp.Symbol(\"g_{0,1}\")**2*sp.Symbol(\"g_{1,2}\")**2)\n",
    "s = d.subs(sp.Symbol(r\"\\Delta_{1,2}\"), sp.Symbol(r\"\\Delta_{0,1}\"))\n",
    "# sp.simplify(s)\n",
    "s"
   ]
  }
 ],
 "metadata": {
  "kernelspec": {
   "display_name": ".venv",
   "language": "python",
   "name": "python3"
  },
  "language_info": {
   "codemirror_mode": {
    "name": "ipython",
    "version": 3
   },
   "file_extension": ".py",
   "mimetype": "text/x-python",
   "name": "python",
   "nbconvert_exporter": "python",
   "pygments_lexer": "ipython3",
   "version": "3.12.9"
  }
 },
 "nbformat": 4,
 "nbformat_minor": 5
}
