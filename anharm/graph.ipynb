{
 "cells": [
  {
   "cell_type": "code",
   "execution_count": 58,
   "metadata": {},
   "outputs": [
    {
     "name": "stdout",
     "output_type": "stream",
     "text": [
      "The autoreload extension is already loaded. To reload it, use:\n",
      "  %reload_ext autoreload\n"
     ]
    }
   ],
   "source": [
    "%load_ext autoreload\n",
    "%autoreload\n",
    "from graphviz import Graph\n",
    "import numpy as np\n",
    "import itertools\n",
    "import networkx as nx\n",
    "import pandas as pd\n",
    "from matplotlib import pyplot as plt\n",
    "from util import proc, subspace, proc_subspace\n",
    "# from diagrams import getbirds, getcycles, getedges, getlegs, zzexpr\n",
    "from hamil import Hgen\n",
    "from pyvis import network as pvn\n",
    "import pathlib\n",
    "from sympy import Symbol, pprint, Matrix\n",
    "import sympy as sp\n",
    "from diagrams import Subspace"
   ]
  },
  {
   "cell_type": "code",
   "execution_count": 73,
   "metadata": {},
   "outputs": [],
   "source": [
    "\n",
    "numbits = 2 # num qubits\n",
    "statesperbit = 4\n",
    "# file = pathlib.Path(\"hamil_line3_5.tsv\").resolve()\n",
    "# mat = pd.read_csv(file, index_col=None, header=None, delimiter=\"\\t\").to_numpy()\n",
    "mat = Hgen(numbits, statesperbit, \"line\")\n",
    "exc = 2\n",
    "space = Subspace(mat, numbits, statesperbit, exc)\n",
    "\n"
   ]
  },
  {
   "cell_type": "code",
   "execution_count": null,
   "metadata": {},
   "outputs": [
    {
     "name": "stdout",
     "output_type": "stream",
     "text": [
      "# single edges:  2\n",
      "# 3-cycles:  0\n",
      "# 4-cycles:  0\n",
      "# legs:  0\n",
      "# birds:  1\n"
     ]
    },
    {
     "data": {
      "text/latex": [
       "$\\displaystyle \\frac{2 g_{0,1}^{2} \\left(1 - \\frac{2 g_{0,1}^{2}}{\\Delta_{11,20}^{2}}\\right)}{\\Delta_{11,20}} + \\frac{2 g_{0,1}^{2} \\left(1 - \\frac{2 g_{0,1}^{2}}{\\Delta_{11,02}^{2}}\\right)}{\\Delta_{11,02}}$"
      ],
      "text/plain": [
       "2*g_{0,1}**2*(1 - 2*g_{0,1}**2/\\Delta_{11,20}**2)/\\Delta_{11,20} + 2*g_{0,1}**2*(1 - 2*g_{0,1}**2/\\Delta_{11,02}**2)/\\Delta_{11,02}"
      ]
     },
     "metadata": {},
     "output_type": "display_data"
    },
    {
     "data": {
      "text/latex": [
       "$\\displaystyle 0$"
      ],
      "text/plain": [
       "0"
      ]
     },
     "metadata": {},
     "output_type": "display_data"
    },
    {
     "data": {
      "text/latex": [
       "$\\displaystyle - \\frac{4 g_{0,1}^{4}}{\\Delta_{11,02} \\Delta_{11,20}^{2}} - \\frac{4 g_{0,1}^{4}}{\\Delta_{11,02}^{2} \\Delta_{11,20}}$"
      ],
      "text/plain": [
       "-4*g_{0,1}**4/(\\Delta_{11,02}*\\Delta_{11,20}**2) - 4*g_{0,1}**4/(\\Delta_{11,02}**2*\\Delta_{11,20})"
      ]
     },
     "metadata": {},
     "output_type": "display_data"
    },
    {
     "data": {
      "text/latex": [
       "$\\displaystyle 0$"
      ],
      "text/plain": [
       "0"
      ]
     },
     "metadata": {},
     "output_type": "display_data"
    },
    {
     "data": {
      "text/latex": [
       "$\\displaystyle 0$"
      ],
      "text/plain": [
       "0"
      ]
     },
     "metadata": {},
     "output_type": "display_data"
    },
    {
     "name": "stdout",
     "output_type": "stream",
     "text": [
      "Help on function _lambdifygenerated:\n",
      "\n",
      "_lambdifygenerated(Dummy_66, Dummy_65)\n",
      "    Created with lambdify. Signature:\n",
      "\n",
      "    func(\\Delta_{11,02}, \\Delta_{11,20})\n",
      "\n",
      "    Expression:\n",
      "\n",
      "    2*g_{0,1}**2*(1 - 2*g_{0,1}**2/\\Delta_{11,20}**2)/\\Delta_{11,20} +...\n",
      "\n",
      "    Source code:\n",
      "\n",
      "    def _lambdifygenerated(Dummy_66, Dummy_65):\n",
      "        return 2*g_0,1**2*(1 - 2*g_0,1**2/Dummy_66**2)/Dummy_66 + 2*g_0,1**2*(1 - 2*g_0,1**2/Dummy_65**2)/Dummy_65\n",
      "\n",
      "\n",
      "    Imported modules:\n",
      "\n"
     ]
    },
    {
     "ename": "NameError",
     "evalue": "name 'g_0' is not defined",
     "output_type": "error",
     "traceback": [
      "\u001b[31m---------------------------------------------------------------------------\u001b[39m",
      "\u001b[31mNameError\u001b[39m                                 Traceback (most recent call last)",
      "\u001b[36mCell\u001b[39m\u001b[36m \u001b[39m\u001b[32mIn[81]\u001b[39m\u001b[32m, line 16\u001b[39m\n\u001b[32m     14\u001b[39m f= sp.lambdify([d1,d2], edges, dummify=\u001b[38;5;28;01mFalse\u001b[39;00m)\n\u001b[32m     15\u001b[39m help(f)\n\u001b[32m---> \u001b[39m\u001b[32m16\u001b[39m \u001b[43mf\u001b[49m\u001b[43m(\u001b[49m\u001b[32;43m1\u001b[39;49m\u001b[43m,\u001b[49m\u001b[32;43m2\u001b[39;49m\u001b[43m)\u001b[49m\n",
      "\u001b[36mFile \u001b[39m\u001b[32m<lambdifygenerated-27>:2\u001b[39m, in \u001b[36m_lambdifygenerated\u001b[39m\u001b[34m(Dummy_66, Dummy_65)\u001b[39m\n\u001b[32m      1\u001b[39m \u001b[38;5;28;01mdef\u001b[39;00m\u001b[38;5;250m \u001b[39m\u001b[34m_lambdifygenerated\u001b[39m(Dummy_66, Dummy_65):\n\u001b[32m----> \u001b[39m\u001b[32m2\u001b[39m     \u001b[38;5;28;01mreturn\u001b[39;00m \u001b[32m2\u001b[39m*\u001b[43mg_0\u001b[49m,\u001b[32m1\u001b[39m**\u001b[32m2\u001b[39m*(\u001b[32m1\u001b[39m - \u001b[32m2\u001b[39m*g_0,\u001b[32m1\u001b[39m**\u001b[32m2\u001b[39m/Dummy_66**\u001b[32m2\u001b[39m)/Dummy_66 + \u001b[32m2\u001b[39m*g_0,\u001b[32m1\u001b[39m**\u001b[32m2\u001b[39m*(\u001b[32m1\u001b[39m - \u001b[32m2\u001b[39m*g_0,\u001b[32m1\u001b[39m**\u001b[32m2\u001b[39m/Dummy_65**\u001b[32m2\u001b[39m)/Dummy_65\n",
      "\u001b[31mNameError\u001b[39m: name 'g_0' is not defined"
     ]
    }
   ],
   "source": [
    "state = \"11\"\n",
    "edges = space.getedges(state)\n",
    "three = space.get3cycles(state)\n",
    "four = space.get4cycles(state)\n",
    "legs = space.getlegs(state)\n",
    "birds = space.getbirds(state)\n",
    "display(edges)\n",
    "display(legs)\n",
    "display(birds)\n",
    "display(three)\n",
    "display(four)\n",
    "d1 = Symbol(r\"\\Delta_{11,02}\")\n",
    "d2 = Symbol(r\"\\Delta_{11,20}\")\n",
    "f= sp.lambdify([d1,d2], edges, dummify=False)\n",
    "help(f)\n",
    "f(1,2)"
   ]
  }
 ],
 "metadata": {
  "kernelspec": {
   "display_name": ".venvgraph",
   "language": "python",
   "name": "python3"
  },
  "language_info": {
   "codemirror_mode": {
    "name": "ipython",
    "version": 3
   },
   "file_extension": ".py",
   "mimetype": "text/x-python",
   "name": "python",
   "nbconvert_exporter": "python",
   "pygments_lexer": "ipython3",
   "version": "3.12.9"
  }
 },
 "nbformat": 4,
 "nbformat_minor": 2
}
