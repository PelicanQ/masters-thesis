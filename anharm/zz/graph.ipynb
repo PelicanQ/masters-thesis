{
 "cells": [
  {
   "cell_type": "code",
   "execution_count": null,
   "metadata": {},
   "outputs": [
    {
     "data": {
      "text/latex": [
       "$\\displaystyle - \\frac{4 g_{0,1}^{4}}{\\left(\\Delta_{0,1} - \\alpha_{1}\\right)^{3}} - \\frac{4 g_{0,1}^{4}}{\\left(- \\Delta_{0,1} - \\alpha_{0}\\right) \\left(\\Delta_{0,1} - \\alpha_{1}\\right)^{2}} - \\frac{4 g_{0,1}^{4}}{\\left(- \\Delta_{0,1} - \\alpha_{0}\\right)^{2} \\left(\\Delta_{0,1} - \\alpha_{1}\\right)} - \\frac{4 g_{0,1}^{4}}{\\left(- \\Delta_{0,1} - \\alpha_{0}\\right)^{3}} - \\frac{\\sqrt{2} g_{0,1}^{2} g_{1,2}}{2 \\left(\\Delta_{0,1} - \\alpha_{1}\\right) \\left(\\Delta_{1,2} + \\alpha_{1}\\right)} + \\frac{2 g_{0,1}^{2}}{\\Delta_{0,1} - \\alpha_{1}} + \\frac{2 g_{0,1}^{2}}{- \\Delta_{0,1} - \\alpha_{0}} + \\frac{3 \\sqrt{2} g_{0,1} g_{1,2}^{2}}{2 \\left(\\Delta_{0,1} - \\alpha_{1}\\right) \\left(\\Delta_{1,2} + \\alpha_{1}\\right)} - \\frac{3 g_{0,1}^{2} g_{1,2}^{2}}{2 \\Delta_{1,2} \\left(\\Delta_{0,1} - \\alpha_{1}\\right) \\left(- \\Delta_{1,2} - \\alpha_{1}\\right)} - \\frac{2 g_{0,1}^{2} g_{1,2}^{2}}{\\Delta_{1,2} \\left(\\Delta_{0,1} - \\alpha_{1}\\right)^{2}} - \\frac{2 g_{0,1}^{2} g_{1,2}^{2}}{\\Delta_{1,2} \\left(- \\Delta_{0,1} - \\alpha_{0}\\right)^{2}} - \\frac{2 g_{0,1}^{2} g_{1,2}^{2}}{\\Delta_{1,2}^{2} \\left(\\Delta_{0,1} - \\alpha_{1}\\right)} - \\frac{2 g_{0,1}^{2} g_{1,2}^{2}}{\\Delta_{1,2}^{2} \\left(- \\Delta_{0,1} - \\alpha_{0}\\right)} + \\frac{g_{0,1}^{2} g_{1,2}^{2}}{2 \\Delta_{0,1} \\left(\\Delta_{0,1} - \\alpha_{1}\\right) \\left(- \\Delta_{1,2} - \\alpha_{1}\\right)} + \\frac{g_{0,1}^{2} g_{1,2}^{2}}{2 \\Delta_{0,1} \\Delta_{1,2} \\left(- \\Delta_{1,2} - \\alpha_{1}\\right)} + \\frac{3 g_{0,1}^{2} g_{1,2}^{2}}{2 \\Delta_{0,1} \\Delta_{1,2} \\left(\\Delta_{0,1} - \\alpha_{1}\\right)} + \\frac{g_{0,1}^{2} g_{1,2}}{\\Delta_{0,1} \\Delta_{1,2}} - \\frac{g_{0,1} g_{1,2}^{2}}{\\Delta_{0,1} \\Delta_{1,2}} - \\frac{g_{0,1}^{2} g_{1,2}^{2}}{\\Delta_{0,1} \\Delta_{1,2}^{2}} + \\frac{g_{0,1}^{2} g_{1,2}^{2}}{\\Delta_{0,1}^{2} \\Delta_{1,2}}$"
      ],
      "text/plain": [
       "-4*g_{0,1}**4/(\\Delta_{0,1} - \\alpha_{1})**3 - 4*g_{0,1}**4/((-\\Delta_{0,1} - \\alpha_{0})*(\\Delta_{0,1} - \\alpha_{1})**2) - 4*g_{0,1}**4/((-\\Delta_{0,1} - \\alpha_{0})**2*(\\Delta_{0,1} - \\alpha_{1})) - 4*g_{0,1}**4/(-\\Delta_{0,1} - \\alpha_{0})**3 - sqrt(2)*g_{0,1}**2*g_{1,2}/(2*(\\Delta_{0,1} - \\alpha_{1})*(\\Delta_{1,2} + \\alpha_{1})) + 2*g_{0,1}**2/(\\Delta_{0,1} - \\alpha_{1}) + 2*g_{0,1}**2/(-\\Delta_{0,1} - \\alpha_{0}) + 3*sqrt(2)*g_{0,1}*g_{1,2}**2/(2*(\\Delta_{0,1} - \\alpha_{1})*(\\Delta_{1,2} + \\alpha_{1})) - 3*g_{0,1}**2*g_{1,2}**2/(2*\\Delta_{1,2}*(\\Delta_{0,1} - \\alpha_{1})*(-\\Delta_{1,2} - \\alpha_{1})) - 2*g_{0,1}**2*g_{1,2}**2/(\\Delta_{1,2}*(\\Delta_{0,1} - \\alpha_{1})**2) - 2*g_{0,1}**2*g_{1,2}**2/(\\Delta_{1,2}*(-\\Delta_{0,1} - \\alpha_{0})**2) - 2*g_{0,1}**2*g_{1,2}**2/(\\Delta_{1,2}**2*(\\Delta_{0,1} - \\alpha_{1})) - 2*g_{0,1}**2*g_{1,2}**2/(\\Delta_{1,2}**2*(-\\Delta_{0,1} - \\alpha_{0})) + g_{0,1}**2*g_{1,2}**2/(2*\\Delta_{0,1}*(\\Delta_{0,1} - \\alpha_{1})*(-\\Delta_{1,2} - \\alpha_{1})) + g_{0,1}**2*g_{1,2}**2/(2*\\Delta_{0,1}*\\Delta_{1,2}*(-\\Delta_{1,2} - \\alpha_{1})) + 3*g_{0,1}**2*g_{1,2}**2/(2*\\Delta_{0,1}*\\Delta_{1,2}*(\\Delta_{0,1} - \\alpha_{1})) + g_{0,1}**2*g_{1,2}/(\\Delta_{0,1}*\\Delta_{1,2}) - g_{0,1}*g_{1,2}**2/(\\Delta_{0,1}*\\Delta_{1,2}) - g_{0,1}**2*g_{1,2}**2/(\\Delta_{0,1}*\\Delta_{1,2}**2) + g_{0,1}**2*g_{1,2}**2/(\\Delta_{0,1}**2*\\Delta_{1,2})"
      ]
     },
     "metadata": {},
     "output_type": "display_data"
    }
   ],
   "source": [
    "from anharm.Hamiltonian import Hamil\n",
    "import sympy as sp\n",
    "H2 = Hamil(2, 4, \"line\")\n",
    "H3 = Hamil(3, 4, \"line\")\n",
    "# ex2 = H2.zzexpr(\"11\", keep_second_coupling=True)\n",
    "ex3 = H3.zzexpr(\"110\", keep_second_coupling=True)\n",
    "# display(H.symbols_extended)\n",
    "# [_,_,_,alpha0,alpha1,alpha2,g01,g12,delta01,_,delta12] = H.symbols_extended\n",
    "display(ex3)\n",
    "# display(ex3)\n",
    "# display(H3.getsecondedges(\"001\", True) + H3.getsecondedges(\"100\", True))\n",
    "# display(H3.getsecondedges(\"101\", True))"
   ]
  },
  {
   "cell_type": "code",
   "execution_count": 116,
   "metadata": {},
   "outputs": [
    {
     "name": "stdout",
     "output_type": "stream",
     "text": [
      "-4*g[0,1]^4/(Delta[0,1] - alpha[1])^3 - 4*g[0,1]^4/((-Delta[0,1] - alpha[0])*(Delta[0,1] - alpha[1])^2) - 4*g[0,1]^4/((-Delta[0,1] - alpha[0])^2*(Delta[0,1] - alpha[1])) - 4*g[0,1]^4/(-Delta[0,1] - alpha[0])^3 + 2*g[0,1]^2/(Delta[0,1] - alpha[1]) + 2*g[0,1]^2/(-Delta[0,1] - alpha[0])\n"
     ]
    }
   ],
   "source": [
    "o = sp.maple_code(ex2)\n",
    "print(o.replace(\"\\\\\", \"\").replace(\"_{\",\"[\").replace(\"}\",\"]\"))"
   ]
  }
 ],
 "metadata": {
  "kernelspec": {
   "display_name": ".venv",
   "language": "python",
   "name": "python3"
  },
  "language_info": {
   "codemirror_mode": {
    "name": "ipython",
    "version": 3
   },
   "file_extension": ".py",
   "mimetype": "text/x-python",
   "name": "python",
   "nbconvert_exporter": "python",
   "pygments_lexer": "ipython3",
   "version": "3.12.9"
  }
 },
 "nbformat": 4,
 "nbformat_minor": 2
}
