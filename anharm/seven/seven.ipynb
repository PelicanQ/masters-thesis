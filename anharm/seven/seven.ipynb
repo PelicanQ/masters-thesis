{
 "cells": [
  {
   "cell_type": "code",
   "execution_count": 16,
   "id": "d59a1548",
   "metadata": {},
   "outputs": [
    {
     "name": "stdout",
     "output_type": "stream",
     "text": [
      "Hbare done\n",
      "Hint done\n",
      "add done\n"
     ]
    }
   ],
   "source": [
    "from anharm.Hamiltonian import Hamil\n",
    "import sympy as sp\n",
    "H = Hamil(7, 3, \"triang\")"
   ]
  },
  {
   "cell_type": "code",
   "execution_count": 17,
   "id": "f7a14d19",
   "metadata": {},
   "outputs": [
    {
     "data": {
      "text/plain": [
       "<anharm.Hamiltonian.Subspace at 0x12f63e78710>"
      ]
     },
     "execution_count": 17,
     "metadata": {},
     "output_type": "execute_result"
    }
   ],
   "source": [
    "# construct spaces\n",
    "H.get_subspace(1)"
   ]
  },
  {
   "cell_type": "code",
   "execution_count": 18,
   "id": "294b78cb",
   "metadata": {},
   "outputs": [
    {
     "data": {
      "text/plain": [
       "<anharm.Hamiltonian.Subspace at 0x12f02f65fd0>"
      ]
     },
     "execution_count": 18,
     "metadata": {},
     "output_type": "execute_result"
    }
   ],
   "source": [
    "H.get_subspace(2)"
   ]
  },
  {
   "cell_type": "code",
   "execution_count": 28,
   "id": "8f4f5ed6",
   "metadata": {},
   "outputs": [
    {
     "name": "stdout",
     "output_type": "stream",
     "text": [
      "7\n",
      "topspace done\n",
      "Bottomspace  done\n",
      "top terms\n",
      "1000000 done\n",
      "0010000 done\n"
     ]
    }
   ],
   "source": [
    "from anharm.Cacher import Cacher\n",
    "e = H.split_deltas(H.zzexpr(\"1010000\"))\n",
    "f, vars = H.lambdify_expr(e) #\\alpha_{0},\\alpha_{1},\\alpha_{2},g_{0,1},g_{1,2},g_{0,2},g_{2,3},g_{2,4},\\Delta_{0,1},\\Delta_{1,2},\\Delta_{2,3},\\Delta_{3,4}\n",
    "vars\n",
    "Cacher.savezz(f, \"1010000\",3,\"triang\")"
   ]
  },
  {
   "cell_type": "code",
   "execution_count": 31,
   "id": "9738dcdf",
   "metadata": {},
   "outputs": [
    {
     "name": "stdout",
     "output_type": "stream",
     "text": [
      "[\\alpha_{2}, \\alpha_{3}, \\alpha_{4}, g_{1,2}, g_{0,2}, g_{2,3}, g_{3,4}, g_{2,4}, g_{4,5}, g_{4,6}, \\Delta_{0,1}, \\Delta_{1,2}, \\Delta_{2,3}, \\Delta_{3,4}, \\Delta_{4,5}, \\Delta_{5,6}]\n"
     ]
    }
   ],
   "source": [
    "e = H.split_deltas(H.zzexpr(\"0010100\"))\n",
    "f, vars = H.lambdify_expr(e) #\\alpha_{2}, \\alpha_{3}, \\alpha_{4}, g_{1,2}, g_{0,2}, g_{2,3}, g_{3,4}, g_{2,4}, g_{4,5}, g_{4,6}, \\Delta_{0,1}, \\Delta_{1,2}, \\Delta_{2,3}, \\Delta_{3,4}, \\Delta_{4,5}, \\Delta_{5,6}\n",
    "print(vars)\n",
    "Cacher.savezz(f, \"0010100\",3,\"triang\")"
   ]
  }
 ],
 "metadata": {
  "kernelspec": {
   "display_name": ".venv",
   "language": "python",
   "name": "python3"
  },
  "language_info": {
   "codemirror_mode": {
    "name": "ipython",
    "version": 3
   },
   "file_extension": ".py",
   "mimetype": "text/x-python",
   "name": "python",
   "nbconvert_exporter": "python",
   "pygments_lexer": "ipython3",
   "version": "3.12.9"
  }
 },
 "nbformat": 4,
 "nbformat_minor": 5
}
